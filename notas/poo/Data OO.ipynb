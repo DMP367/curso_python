{
 "cells": [
  {
   "cell_type": "code",
   "execution_count": 12,
   "id": "7dc235f0",
   "metadata": {},
   "outputs": [
    {
     "name": "stdout",
     "output_type": "stream",
     "text": [
      "1/1/2022\n",
      "1/12/2019\n"
     ]
    }
   ],
   "source": [
    "class Data:\n",
    "    def __init__(self, dia=1, mes=1, ano=1970): # construtor da linguagem, só podemos set configuração padrao\n",
    "        self.dia = dia\n",
    "        self.mes = mes\n",
    "        self.ano = ano\n",
    "        \n",
    "    \n",
    "    \n",
    "    def __str__(self):\n",
    "        return f'{self.dia}/{self.mes}/{self.ano}'\n",
    "\n",
    "d1 = Data(ano=2022)\n",
    "d2 = Data(mes=12, ano=2019)\n",
    "\n",
    "print(d1)\n",
    "\n",
    "print(d2)\n"
   ]
  },
  {
   "cell_type": "code",
   "execution_count": 10,
   "id": "dd172118",
   "metadata": {},
   "outputs": [
    {
     "name": "stdout",
     "output_type": "stream",
     "text": [
      "Collecting jupyterthemes\n",
      "  Downloading jupyterthemes-0.20.0-py2.py3-none-any.whl (7.0 MB)\n",
      "\u001b[2K     \u001b[38;2;114;156;31m━━━━━━━━━━━━━━━━━━━━━━━━━━━━━━━━━━━━━━━━\u001b[0m \u001b[32m7.0/7.0 MB\u001b[0m \u001b[31m7.2 MB/s\u001b[0m eta \u001b[36m0:00:00\u001b[0m0m eta \u001b[36m0:00:01\u001b[0m0:01\u001b[0m:01\u001b[0m\n",
      "\u001b[?25hRequirement already satisfied: ipython>=5.4.1 in /home/daniel/workspace/python/curso_python/.env/lib/python3.9/site-packages (from jupyterthemes) (8.2.0)\n",
      "Requirement already satisfied: jupyter-core in /home/daniel/workspace/python/curso_python/.env/lib/python3.9/site-packages (from jupyterthemes) (4.9.2)\n",
      "Collecting lesscpy>=0.11.2\n",
      "  Downloading lesscpy-0.15.0-py2.py3-none-any.whl (46 kB)\n",
      "\u001b[2K     \u001b[38;2;114;156;31m━━━━━━━━━━━━━━━━━━━━━━━━━━━━━━━━━━━━━━━\u001b[0m \u001b[32m46.7/46.7 KB\u001b[0m \u001b[31m515.1 kB/s\u001b[0m eta \u001b[36m0:00:00\u001b[0m MB/s\u001b[0m eta \u001b[36m0:00:01\u001b[0m\n",
      "\u001b[?25hCollecting matplotlib>=1.4.3\n",
      "  Using cached matplotlib-3.5.1-cp39-cp39-manylinux_2_5_x86_64.manylinux1_x86_64.whl (11.2 MB)\n",
      "Requirement already satisfied: notebook>=5.6.0 in /home/daniel/workspace/python/curso_python/.env/lib/python3.9/site-packages (from jupyterthemes) (6.4.10)\n",
      "Requirement already satisfied: pexpect>4.3 in /home/daniel/workspace/python/curso_python/.env/lib/python3.9/site-packages (from ipython>=5.4.1->jupyterthemes) (4.8.0)\n",
      "Requirement already satisfied: jedi>=0.16 in /home/daniel/workspace/python/curso_python/.env/lib/python3.9/site-packages (from ipython>=5.4.1->jupyterthemes) (0.18.1)\n",
      "Requirement already satisfied: pickleshare in /home/daniel/workspace/python/curso_python/.env/lib/python3.9/site-packages (from ipython>=5.4.1->jupyterthemes) (0.7.5)\n",
      "Requirement already satisfied: pygments>=2.4.0 in /home/daniel/workspace/python/curso_python/.env/lib/python3.9/site-packages (from ipython>=5.4.1->jupyterthemes) (2.11.2)\n",
      "Requirement already satisfied: backcall in /home/daniel/workspace/python/curso_python/.env/lib/python3.9/site-packages (from ipython>=5.4.1->jupyterthemes) (0.2.0)\n",
      "Requirement already satisfied: traitlets>=5 in /home/daniel/workspace/python/curso_python/.env/lib/python3.9/site-packages (from ipython>=5.4.1->jupyterthemes) (5.1.1)\n",
      "Requirement already satisfied: prompt-toolkit!=3.0.0,!=3.0.1,<3.1.0,>=2.0.0 in /home/daniel/workspace/python/curso_python/.env/lib/python3.9/site-packages (from ipython>=5.4.1->jupyterthemes) (3.0.28)\n",
      "Requirement already satisfied: matplotlib-inline in /home/daniel/workspace/python/curso_python/.env/lib/python3.9/site-packages (from ipython>=5.4.1->jupyterthemes) (0.1.3)\n",
      "Requirement already satisfied: decorator in /home/daniel/workspace/python/curso_python/.env/lib/python3.9/site-packages (from ipython>=5.4.1->jupyterthemes) (5.1.1)\n",
      "Requirement already satisfied: stack-data in /home/daniel/workspace/python/curso_python/.env/lib/python3.9/site-packages (from ipython>=5.4.1->jupyterthemes) (0.2.0)\n",
      "Requirement already satisfied: setuptools>=18.5 in /home/daniel/workspace/python/curso_python/.env/lib/python3.9/site-packages (from ipython>=5.4.1->jupyterthemes) (58.1.0)\n",
      "Requirement already satisfied: six in /home/daniel/workspace/python/curso_python/.env/lib/python3.9/site-packages (from lesscpy>=0.11.2->jupyterthemes) (1.16.0)\n",
      "Collecting ply\n",
      "  Downloading ply-3.11-py2.py3-none-any.whl (49 kB)\n",
      "\u001b[2K     \u001b[38;2;114;156;31m━━━━━━━━━━━━━━━━━━━━━━━━━━━━━━━━━━━━━━━\u001b[0m \u001b[32m49.6/49.6 KB\u001b[0m \u001b[31m789.9 kB/s\u001b[0m eta \u001b[36m0:00:00\u001b[0m MB/s\u001b[0m eta \u001b[36m0:00:01\u001b[0m\n",
      "\u001b[?25hCollecting kiwisolver>=1.0.1\n",
      "  Using cached kiwisolver-1.4.2-cp39-cp39-manylinux_2_12_x86_64.manylinux2010_x86_64.whl (1.6 MB)\n",
      "Requirement already satisfied: packaging>=20.0 in /home/daniel/workspace/python/curso_python/.env/lib/python3.9/site-packages (from matplotlib>=1.4.3->jupyterthemes) (21.3)\n",
      "Collecting cycler>=0.10\n",
      "  Using cached cycler-0.11.0-py3-none-any.whl (6.4 kB)\n",
      "Requirement already satisfied: python-dateutil>=2.7 in /home/daniel/workspace/python/curso_python/.env/lib/python3.9/site-packages (from matplotlib>=1.4.3->jupyterthemes) (2.8.2)\n",
      "Collecting pillow>=6.2.0\n",
      "  Using cached Pillow-9.1.0-cp39-cp39-manylinux_2_17_x86_64.manylinux2014_x86_64.whl (4.3 MB)\n",
      "Requirement already satisfied: pyparsing>=2.2.1 in /home/daniel/workspace/python/curso_python/.env/lib/python3.9/site-packages (from matplotlib>=1.4.3->jupyterthemes) (3.0.7)\n",
      "Collecting fonttools>=4.22.0\n",
      "  Downloading fonttools-4.32.0-py3-none-any.whl (900 kB)\n",
      "\u001b[2K     \u001b[38;2;114;156;31m━━━━━━━━━━━━━━━━━━━━━━━━━━━━━━━━━━━━━━━\u001b[0m \u001b[32m900.8/900.8 KB\u001b[0m \u001b[31m5.1 MB/s\u001b[0m eta \u001b[36m0:00:00\u001b[0mm eta \u001b[36m0:00:01\u001b[0m0:01\u001b[0m\n",
      "\u001b[?25hCollecting numpy>=1.17\n",
      "  Using cached numpy-1.22.3-cp39-cp39-manylinux_2_17_x86_64.manylinux2014_x86_64.whl (16.8 MB)\n",
      "Requirement already satisfied: Send2Trash>=1.8.0 in /home/daniel/workspace/python/curso_python/.env/lib/python3.9/site-packages (from notebook>=5.6.0->jupyterthemes) (1.8.0)\n",
      "Requirement already satisfied: nest-asyncio>=1.5 in /home/daniel/workspace/python/curso_python/.env/lib/python3.9/site-packages (from notebook>=5.6.0->jupyterthemes) (1.5.4)\n",
      "Requirement already satisfied: nbformat in /home/daniel/workspace/python/curso_python/.env/lib/python3.9/site-packages (from notebook>=5.6.0->jupyterthemes) (5.2.0)\n",
      "Requirement already satisfied: argon2-cffi in /home/daniel/workspace/python/curso_python/.env/lib/python3.9/site-packages (from notebook>=5.6.0->jupyterthemes) (21.3.0)\n",
      "Requirement already satisfied: prometheus-client in /home/daniel/workspace/python/curso_python/.env/lib/python3.9/site-packages (from notebook>=5.6.0->jupyterthemes) (0.13.1)\n",
      "Requirement already satisfied: jinja2 in /home/daniel/workspace/python/curso_python/.env/lib/python3.9/site-packages (from notebook>=5.6.0->jupyterthemes) (3.1.1)\n",
      "Requirement already satisfied: jupyter-client>=5.3.4 in /home/daniel/workspace/python/curso_python/.env/lib/python3.9/site-packages (from notebook>=5.6.0->jupyterthemes) (7.2.1)\n",
      "Requirement already satisfied: ipython-genutils in /home/daniel/workspace/python/curso_python/.env/lib/python3.9/site-packages (from notebook>=5.6.0->jupyterthemes) (0.2.0)\n",
      "Requirement already satisfied: pyzmq>=17 in /home/daniel/workspace/python/curso_python/.env/lib/python3.9/site-packages (from notebook>=5.6.0->jupyterthemes) (22.3.0)\n",
      "Requirement already satisfied: tornado>=6.1 in /home/daniel/workspace/python/curso_python/.env/lib/python3.9/site-packages (from notebook>=5.6.0->jupyterthemes) (6.1)\n",
      "Requirement already satisfied: nbconvert>=5 in /home/daniel/workspace/python/curso_python/.env/lib/python3.9/site-packages (from notebook>=5.6.0->jupyterthemes) (6.4.5)\n",
      "Requirement already satisfied: terminado>=0.8.3 in /home/daniel/workspace/python/curso_python/.env/lib/python3.9/site-packages (from notebook>=5.6.0->jupyterthemes) (0.13.3)\n",
      "Requirement already satisfied: ipykernel in /home/daniel/workspace/python/curso_python/.env/lib/python3.9/site-packages (from notebook>=5.6.0->jupyterthemes) (6.10.0)\n",
      "Requirement already satisfied: parso<0.9.0,>=0.8.0 in /home/daniel/workspace/python/curso_python/.env/lib/python3.9/site-packages (from jedi>=0.16->ipython>=5.4.1->jupyterthemes) (0.8.3)\n",
      "Requirement already satisfied: entrypoints in /home/daniel/workspace/python/curso_python/.env/lib/python3.9/site-packages (from jupyter-client>=5.3.4->notebook>=5.6.0->jupyterthemes) (0.4)\n",
      "Requirement already satisfied: nbclient<0.6.0,>=0.5.0 in /home/daniel/workspace/python/curso_python/.env/lib/python3.9/site-packages (from nbconvert>=5->notebook>=5.6.0->jupyterthemes) (0.5.13)\n",
      "Requirement already satisfied: MarkupSafe>=2.0 in /home/daniel/workspace/python/curso_python/.env/lib/python3.9/site-packages (from nbconvert>=5->notebook>=5.6.0->jupyterthemes) (2.1.1)\n",
      "Requirement already satisfied: mistune<2,>=0.8.1 in /home/daniel/workspace/python/curso_python/.env/lib/python3.9/site-packages (from nbconvert>=5->notebook>=5.6.0->jupyterthemes) (0.8.4)\n",
      "Requirement already satisfied: bleach in /home/daniel/workspace/python/curso_python/.env/lib/python3.9/site-packages (from nbconvert>=5->notebook>=5.6.0->jupyterthemes) (4.1.0)\n",
      "Requirement already satisfied: jupyterlab-pygments in /home/daniel/workspace/python/curso_python/.env/lib/python3.9/site-packages (from nbconvert>=5->notebook>=5.6.0->jupyterthemes) (0.1.2)\n",
      "Requirement already satisfied: beautifulsoup4 in /home/daniel/workspace/python/curso_python/.env/lib/python3.9/site-packages (from nbconvert>=5->notebook>=5.6.0->jupyterthemes) (4.10.0)\n",
      "Requirement already satisfied: pandocfilters>=1.4.1 in /home/daniel/workspace/python/curso_python/.env/lib/python3.9/site-packages (from nbconvert>=5->notebook>=5.6.0->jupyterthemes) (1.5.0)\n",
      "Requirement already satisfied: defusedxml in /home/daniel/workspace/python/curso_python/.env/lib/python3.9/site-packages (from nbconvert>=5->notebook>=5.6.0->jupyterthemes) (0.7.1)\n",
      "Requirement already satisfied: testpath in /home/daniel/workspace/python/curso_python/.env/lib/python3.9/site-packages (from nbconvert>=5->notebook>=5.6.0->jupyterthemes) (0.6.0)\n"
     ]
    },
    {
     "name": "stdout",
     "output_type": "stream",
     "text": [
      "Requirement already satisfied: jsonschema!=2.5.0,>=2.4 in /home/daniel/workspace/python/curso_python/.env/lib/python3.9/site-packages (from nbformat->notebook>=5.6.0->jupyterthemes) (4.4.0)\n",
      "Requirement already satisfied: ptyprocess>=0.5 in /home/daniel/workspace/python/curso_python/.env/lib/python3.9/site-packages (from pexpect>4.3->ipython>=5.4.1->jupyterthemes) (0.7.0)\n",
      "Requirement already satisfied: wcwidth in /home/daniel/workspace/python/curso_python/.env/lib/python3.9/site-packages (from prompt-toolkit!=3.0.0,!=3.0.1,<3.1.0,>=2.0.0->ipython>=5.4.1->jupyterthemes) (0.2.5)\n",
      "Requirement already satisfied: argon2-cffi-bindings in /home/daniel/workspace/python/curso_python/.env/lib/python3.9/site-packages (from argon2-cffi->notebook>=5.6.0->jupyterthemes) (21.2.0)\n",
      "Requirement already satisfied: debugpy<2.0,>=1.0.0 in /home/daniel/workspace/python/curso_python/.env/lib/python3.9/site-packages (from ipykernel->notebook>=5.6.0->jupyterthemes) (1.6.0)\n",
      "Requirement already satisfied: psutil in /home/daniel/workspace/python/curso_python/.env/lib/python3.9/site-packages (from ipykernel->notebook>=5.6.0->jupyterthemes) (5.9.0)\n",
      "Requirement already satisfied: executing in /home/daniel/workspace/python/curso_python/.env/lib/python3.9/site-packages (from stack-data->ipython>=5.4.1->jupyterthemes) (0.8.3)\n",
      "Requirement already satisfied: asttokens in /home/daniel/workspace/python/curso_python/.env/lib/python3.9/site-packages (from stack-data->ipython>=5.4.1->jupyterthemes) (2.0.5)\n",
      "Requirement already satisfied: pure-eval in /home/daniel/workspace/python/curso_python/.env/lib/python3.9/site-packages (from stack-data->ipython>=5.4.1->jupyterthemes) (0.2.2)\n",
      "Requirement already satisfied: pyrsistent!=0.17.0,!=0.17.1,!=0.17.2,>=0.14.0 in /home/daniel/workspace/python/curso_python/.env/lib/python3.9/site-packages (from jsonschema!=2.5.0,>=2.4->nbformat->notebook>=5.6.0->jupyterthemes) (0.18.1)\n",
      "Requirement already satisfied: attrs>=17.4.0 in /home/daniel/workspace/python/curso_python/.env/lib/python3.9/site-packages (from jsonschema!=2.5.0,>=2.4->nbformat->notebook>=5.6.0->jupyterthemes) (21.4.0)\n",
      "Requirement already satisfied: cffi>=1.0.1 in /home/daniel/workspace/python/curso_python/.env/lib/python3.9/site-packages (from argon2-cffi-bindings->argon2-cffi->notebook>=5.6.0->jupyterthemes) (1.15.0)\n",
      "Requirement already satisfied: soupsieve>1.2 in /home/daniel/workspace/python/curso_python/.env/lib/python3.9/site-packages (from beautifulsoup4->nbconvert>=5->notebook>=5.6.0->jupyterthemes) (2.3.1)\n",
      "Requirement already satisfied: webencodings in /home/daniel/workspace/python/curso_python/.env/lib/python3.9/site-packages (from bleach->nbconvert>=5->notebook>=5.6.0->jupyterthemes) (0.5.1)\n",
      "Requirement already satisfied: pycparser in /home/daniel/workspace/python/curso_python/.env/lib/python3.9/site-packages (from cffi>=1.0.1->argon2-cffi-bindings->argon2-cffi->notebook>=5.6.0->jupyterthemes) (2.21)\n",
      "Installing collected packages: ply, pillow, numpy, lesscpy, kiwisolver, fonttools, cycler, matplotlib, jupyterthemes\n",
      "Successfully installed cycler-0.11.0 fonttools-4.32.0 jupyterthemes-0.20.0 kiwisolver-1.4.2 lesscpy-0.15.0 matplotlib-3.5.1 numpy-1.22.3 pillow-9.1.0 ply-3.11\n"
     ]
    }
   ],
   "source": [
    "!pip install jupyterthemes"
   ]
  }
 ],
 "metadata": {
  "kernelspec": {
   "display_name": "Python 3 (ipykernel)",
   "language": "python",
   "name": "python3"
  },
  "language_info": {
   "codemirror_mode": {
    "name": "ipython",
    "version": 3
   },
   "file_extension": ".py",
   "mimetype": "text/x-python",
   "name": "python",
   "nbconvert_exporter": "python",
   "pygments_lexer": "ipython3",
   "version": "3.9.12"
  }
 },
 "nbformat": 4,
 "nbformat_minor": 5
}
