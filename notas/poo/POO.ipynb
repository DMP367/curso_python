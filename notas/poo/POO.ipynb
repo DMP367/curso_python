{
 "cells": [
  {
   "cell_type": "code",
   "execution_count": 4,
   "id": "91f4f0b2",
   "metadata": {},
   "outputs": [
    {
     "name": "stdout",
     "output_type": "stream",
     "text": [
      "Nome: Daniel\n",
      "Idade: 24\n",
      "CPF: 042.143.343-93\n"
     ]
    }
   ],
   "source": [
    "\n",
    "\n",
    "class Aluno:\n",
    "    def __init__(self):\n",
    "        self.nome = \"\"\n",
    "        self.idade = 0\n",
    "        self.cpf = \"\"\n",
    "        \n",
    "    def setNome(self, nome):\n",
    "        self.nome = nome\n",
    "        \n",
    "    def setIdade(self, idade):\n",
    "        self.idade = idade;\n",
    "    \n",
    "    def setCpf(self, cpf):\n",
    "        self.cpf = cpf\n",
    "        \n",
    "    def getNome(self) -> str:\n",
    "        return self.nome\n",
    "    \n",
    "    def getIdade(self) -> int:\n",
    "        return self.idade\n",
    "    \n",
    "    def getCpf(self) -> str:\n",
    "        return self.cpf\n",
    "    \n",
    "    def printAluno(self):\n",
    "        return f'Nome: {self.nome}\\nIdade: {self.idade}\\nCPF: {self.cpf}'\n",
    "\n",
    "aluno1 = Aluno()\n",
    "\n",
    "aluno1.setNome(\"Daniel\")\n",
    "aluno1.setIdade(24)\n",
    "aluno1.setCpf(\"042.143.343-93\")\n",
    "\n",
    "print(aluno1.printAluno())"
   ]
  },
  {
   "cell_type": "code",
   "execution_count": 65,
   "id": "56a13167",
   "metadata": {},
   "outputs": [
    {
     "name": "stdout",
     "output_type": "stream",
     "text": [
      "29/2/2011 :  Data Invalida\n"
     ]
    }
   ],
   "source": [
    "class Date:\n",
    "    def __init__(self):\n",
    "        self.dia = 0\n",
    "        self.mes = 0\n",
    "        self.ano = 0\n",
    "    \n",
    "    def valideDate(self) -> bool:\n",
    "        meses_31 = [1,3,5,7,8,10,12]\n",
    "        meses_30 = [4,6,9,11]\n",
    "        \n",
    "        if self.mes == 2:\n",
    "            if self.dia == 29 and self.ano % 4 == 0 or self.ano % 400 == 0 and self.ano % 100 != 0:\n",
    "                return True\n",
    "            elif self.dia in range(1,29):\n",
    "                return True\n",
    "                \n",
    "        elif self.mes in meses_31:\n",
    "            if self.dia in range(1,32):\n",
    "                return True\n",
    "        \n",
    "        elif self.mes in meses_30:\n",
    "            if self.dia in range(1,31):\n",
    "                return True\n",
    "                \n",
    "        else :\n",
    "            return False\n",
    "    \n",
    "    def setDate(self, dia, mes, ano) -> bool:\n",
    "        self.dia = dia\n",
    "        self.mes = mes\n",
    "        self.ano = ano\n",
    "        \n",
    "        if self.valideDate():\n",
    "            return True\n",
    "        else :\n",
    "            return False\n",
    "        \n",
    "\n",
    "data = Date()\n",
    "\n",
    "data.setDate(29,2,2011)\n",
    "\n",
    "\n",
    "        "
   ]
  },
  {
   "cell_type": "code",
   "execution_count": null,
   "id": "ea6101e6",
   "metadata": {},
   "outputs": [],
   "source": []
  }
 ],
 "metadata": {
  "kernelspec": {
   "display_name": "Python 3 (ipykernel)",
   "language": "python",
   "name": "python3"
  },
  "language_info": {
   "codemirror_mode": {
    "name": "ipython",
    "version": 3
   },
   "file_extension": ".py",
   "mimetype": "text/x-python",
   "name": "python",
   "nbconvert_exporter": "python",
   "pygments_lexer": "ipython3",
   "version": "3.9.12"
  }
 },
 "nbformat": 4,
 "nbformat_minor": 5
}
