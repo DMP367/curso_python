{
 "cells": [
  {
   "cell_type": "code",
   "execution_count": 7,
   "id": "12d18dbf",
   "metadata": {},
   "outputs": [
    {
     "data": {
      "text/plain": [
       "1"
      ]
     },
     "execution_count": 7,
     "metadata": {},
     "output_type": "execute_result"
    }
   ],
   "source": [
    "1 + 2\n",
    "\n",
    "3//2 # só mostra o ultimo resultado"
   ]
  },
  {
   "cell_type": "code",
   "execution_count": 4,
   "id": "43a5ff21",
   "metadata": {},
   "outputs": [
    {
     "name": "stdout",
     "output_type": "stream",
     "text": [
      "Teste jupyter\n"
     ]
    }
   ],
   "source": [
    "print(\"Teste jupyter\")"
   ]
  },
  {
   "cell_type": "markdown",
   "id": "e009f673",
   "metadata": {},
   "source": [
    "# Operadores "
   ]
  },
  {
   "cell_type": "code",
   "execution_count": 10,
   "id": "b0ed746b",
   "metadata": {},
   "outputs": [
    {
     "data": {
      "text/plain": [
       "5"
      ]
     },
     "execution_count": 10,
     "metadata": {},
     "output_type": "execute_result"
    }
   ],
   "source": [
    "3 + 2"
   ]
  },
  {
   "cell_type": "code",
   "execution_count": 11,
   "id": "2384fdb0",
   "metadata": {},
   "outputs": [
    {
     "data": {
      "text/plain": [
       "15"
      ]
     },
     "execution_count": 11,
     "metadata": {},
     "output_type": "execute_result"
    }
   ],
   "source": [
    "3 * 5"
   ]
  },
  {
   "cell_type": "code",
   "execution_count": 12,
   "id": "935f3e70",
   "metadata": {},
   "outputs": [
    {
     "data": {
      "text/plain": [
       "1.6666666666666667"
      ]
     },
     "execution_count": 12,
     "metadata": {},
     "output_type": "execute_result"
    }
   ],
   "source": [
    "4 / 2.4"
   ]
  },
  {
   "cell_type": "code",
   "execution_count": 13,
   "id": "8a1ec108",
   "metadata": {},
   "outputs": [
    {
     "data": {
      "text/plain": [
       "-3"
      ]
     },
     "execution_count": 13,
     "metadata": {},
     "output_type": "execute_result"
    }
   ],
   "source": [
    "5 - 8"
   ]
  },
  {
   "cell_type": "markdown",
   "id": "d0ac8075",
   "metadata": {},
   "source": [
    "# Estruturas de Controle "
   ]
  },
  {
   "cell_type": "code",
   "execution_count": 14,
   "id": "20155adb",
   "metadata": {},
   "outputs": [
    {
     "name": "stdout",
     "output_type": "stream",
     "text": [
      "3 não é mairo que 4\n"
     ]
    }
   ],
   "source": [
    "if 3 > 4 :\n",
    "    print('3 é maior que 4')\n",
    "\n",
    "else :\n",
    "    print('3 não é mairo que 4')"
   ]
  }
 ],
 "metadata": {
  "kernelspec": {
   "display_name": "Python 3 (ipykernel)",
   "language": "python",
   "name": "python3"
  },
  "language_info": {
   "codemirror_mode": {
    "name": "ipython",
    "version": 3
   },
   "file_extension": ".py",
   "mimetype": "text/x-python",
   "name": "python",
   "nbconvert_exporter": "python",
   "pygments_lexer": "ipython3",
   "version": "3.9.12"
  }
 },
 "nbformat": 4,
 "nbformat_minor": 5
}
